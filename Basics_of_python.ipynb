{
  "nbformat": 4,
  "nbformat_minor": 0,
  "metadata": {
    "colab": {
      "name": "Basics_of_python.ipynb",
      "provenance": [],
      "collapsed_sections": [],
      "include_colab_link": true
    },
    "kernelspec": {
      "name": "python3",
      "display_name": "Python 3"
    }
  },
  "cells": [
    {
      "cell_type": "markdown",
      "metadata": {
        "id": "view-in-github",
        "colab_type": "text"
      },
      "source": [
        "<a href=\"https://colab.research.google.com/github/GargiSach/pipedream/blob/master/Basics_of_python.ipynb\" target=\"_parent\"><img src=\"https://colab.research.google.com/assets/colab-badge.svg\" alt=\"Open In Colab\"/></a>"
      ]
    },
    {
      "cell_type": "markdown",
      "metadata": {
        "id": "e2CWWATVTFOQ"
      },
      "source": [
        "# Practice Exercise"
      ]
    },
    {
      "cell_type": "markdown",
      "metadata": {
        "id": "gxSUV29HVelr"
      },
      "source": [
        "Question 1: Let us start by printing the word \"Welcome to the practice exercise\" in python."
      ]
    },
    {
      "cell_type": "code",
      "metadata": {
        "id": "sn3vu-6dVsEP",
        "colab": {
          "base_uri": "https://localhost:8080/"
        },
        "outputId": "f7b0d5b0-664b-445a-b092-5d53c7496818"
      },
      "source": [
        "# Print the statement:\r\n",
        "print(\"Hello world\")"
      ],
      "execution_count": 2,
      "outputs": [
        {
          "output_type": "stream",
          "text": [
            "Hello world\n"
          ],
          "name": "stdout"
        }
      ]
    },
    {
      "cell_type": "markdown",
      "metadata": {
        "id": "Ys8qEL-HTMA1"
      },
      "source": [
        "Question 2: Create a string variable and print the string."
      ]
    },
    {
      "cell_type": "code",
      "metadata": {
        "id": "ypmiTaqjSu_C",
        "colab": {
          "base_uri": "https://localhost:8080/"
        },
        "outputId": "440e8641-9855-4d06-a61f-72a3d60fcf6b"
      },
      "source": [
        "# Create a string variable:\n",
        "string = 'i love programming using python'\n",
        "\n",
        "# Print the string:\n",
        "print(string)"
      ],
      "execution_count": 3,
      "outputs": [
        {
          "output_type": "stream",
          "text": [
            "i love programming using python\n"
          ],
          "name": "stdout"
        }
      ]
    },
    {
      "cell_type": "markdown",
      "metadata": {
        "id": "SCtZJrEjUyLV"
      },
      "source": [
        "Question 3: Create a string by taking user input and print the string."
      ]
    },
    {
      "cell_type": "code",
      "metadata": {
        "id": "kuNOPj11TU10"
      },
      "source": [
        "# Create a string variable taking user input:\n",
        "\n",
        "# Print the string:"
      ],
      "execution_count": null,
      "outputs": []
    },
    {
      "cell_type": "code",
      "metadata": {
        "colab": {
          "base_uri": "https://localhost:8080/"
        },
        "id": "fJCmsWTECUEf",
        "outputId": "50f83bd4-d94d-495b-cec2-14372284b12b"
      },
      "source": [
        "string = input()"
      ],
      "execution_count": 4,
      "outputs": [
        {
          "output_type": "stream",
          "text": [
            "i love programming \n"
          ],
          "name": "stdout"
        }
      ]
    },
    {
      "cell_type": "code",
      "metadata": {
        "colab": {
          "base_uri": "https://localhost:8080/"
        },
        "id": "-WuNGr3WCd3Y",
        "outputId": "8d6a5145-4b3b-4f5e-e789-381a98845148"
      },
      "source": [
        "print(string)"
      ],
      "execution_count": 5,
      "outputs": [
        {
          "output_type": "stream",
          "text": [
            "i love programming \n"
          ],
          "name": "stdout"
        }
      ]
    },
    {
      "cell_type": "markdown",
      "metadata": {
        "id": "DImK3bXbVQmK"
      },
      "source": [
        "Question 4: Print the pattern given below:\n",
        "\n",
        "\n",
        "\n",
        "![image.png](data:image/png;base64,iVBORw0KGgoAAAANSUhEUgAAADIAAABFCAYAAAAIGLXIAAACvklEQVRoBe1abW7DIAzljJF6oSpXSY/SHWQ/egxPgA3GfAwxEO3kSVP4NLz3TGInNfBP/sw/wQEK5N2UVEVUkUUMqGstInbYrCoyTN2iiarIImKHzaoiPdS9HgcYY+D86hn9tzGLFHnBdTNwPC44PxmIVcKr8PxsINFJFEjkorO06IzQ6qoIMdF9VUWaVH2d7vlhnyH8f+XzZLEiTbhTOxXIVDonGFNFJpA41YQqMpXOCcZUkQkkTjWhikAShhxwfTOCvy84eHhyu+DFukORxtX6w8DfC4OK2PD8hCfa97l5rMtln3cD5k6jqdenw+f9BLMPCG0Gr45ZoQob4oAKIK7NArDKfgYQZJ6/SeHA3weI32jmOvwMCcatqx0PPDXvAsT5v9go8ypfdKDwDMmNy3o2ua9h8LB74w4EO/T1Je3NwZ8hPydNuCj5+kviNQykHwRAONglpFsVofs/f1bYMt2ZnCsx1luutxVIidnNbcOutXnf2fIKJKNkc4MqslmAbHlVJKNkc4MqslmAbPmqIj7rY2FG6aNmEqrExKoWGMag0H8AomDRyMAzsdv3VbgJJOQMGX4An7PHzZeGhDaeSEGeaDngFKeB+MqVzA0Ws8IgELuZThCA0W+y0XQuT4VLkbIF2iQVoP7jTGuwOtmxdMKFPwhwLlKNcGMuQjQmKQC6EbkdB0XjS23UR9emItGHWYhuZ2KYHoFW0t1MDVo22jCYcIUe6UoINKQIYWBaqAJJh4mNlnKIUpv0dzTqFCEFM1LQFSnXuV3wbHkH2uwEIvwcXSt5U1UAUvJ3kIzbjTgw7fdi5HopwbHWBwTljca8QtK1Yt0uIO4+tGZmCyBRiMbh1fWFG4XoZNUKEHQlklf6sTOQPgtSEO3N0RkLZ5DcrMMu23tSrABJxnxERYG8m0yqiCqyiAF1rUXEDpv9AT7GtDRI+0oLAAAAAElFTkSuQmCC)"
      ]
    },
    {
      "cell_type": "code",
      "metadata": {
        "id": "DkSe8TvcVPMK",
        "colab": {
          "base_uri": "https://localhost:8080/"
        },
        "outputId": "8678dfeb-79b5-4c2f-8d38-a1692c9f1b99"
      },
      "source": [
        "# Print the pattern shown in the question above:\r\n",
        "print('  1  ')\r\n",
        "print(' 234  ')\r\n",
        "print('56789 ')"
      ],
      "execution_count": 7,
      "outputs": [
        {
          "output_type": "stream",
          "text": [
            "  1  \n",
            " 234  \n",
            "56789 \n"
          ],
          "name": "stdout"
        }
      ]
    },
    {
      "cell_type": "markdown",
      "metadata": {
        "id": "wmEibYOCXoUV"
      },
      "source": [
        "Question 5: Print the '#' symbol 15 times without having to type it for 15 times."
      ]
    },
    {
      "cell_type": "code",
      "metadata": {
        "id": "ca4yCx9OXfyt"
      },
      "source": [
        "# Print the pattern shown in the question above:"
      ],
      "execution_count": null,
      "outputs": []
    },
    {
      "cell_type": "code",
      "metadata": {
        "colab": {
          "base_uri": "https://localhost:8080/"
        },
        "id": "m-RJg04XDtan",
        "outputId": "15e204e4-d93a-4bbd-f794-427d143fc097"
      },
      "source": [
        "print('#'*15)"
      ],
      "execution_count": 8,
      "outputs": [
        {
          "output_type": "stream",
          "text": [
            "###############\n"
          ],
          "name": "stdout"
        }
      ]
    },
    {
      "cell_type": "markdown",
      "metadata": {
        "id": "pCh5QAyGYdWe"
      },
      "source": [
        "Question 6: Take the user input to print the current date"
      ]
    },
    {
      "cell_type": "code",
      "metadata": {
        "id": "uO-kTgb7XoJZ"
      },
      "source": [
        "# Take the user input into a string:\n",
        "\n",
        "# Print the date:"
      ],
      "execution_count": null,
      "outputs": []
    },
    {
      "cell_type": "code",
      "metadata": {
        "colab": {
          "base_uri": "https://localhost:8080/"
        },
        "id": "BBQzGE3mD_kw",
        "outputId": "c68fa2d1-1e48-40e9-91c0-2d715873113a"
      },
      "source": [
        "String = input(\"Please enter current date in DD/MM/YYYY FORMAT: \")\r\n",
        "print(String)\r\n"
      ],
      "execution_count": 11,
      "outputs": [
        {
          "output_type": "stream",
          "text": [
            "Please enter current date in DD/MM/YYYY FORMAT: 10/03/2021\n",
            "10/03/2021\n"
          ],
          "name": "stdout"
        }
      ]
    },
    {
      "cell_type": "markdown",
      "metadata": {
        "id": "WzkRCuNYZOnp"
      },
      "source": [
        "Question 7: Type cast the interger 1.8 into a string and print the result."
      ]
    },
    {
      "cell_type": "code",
      "metadata": {
        "id": "tv7dzZX2YdFH",
        "colab": {
          "base_uri": "https://localhost:8080/"
        },
        "outputId": "8192f7ab-a812-46d1-c4fc-bb2539aba644"
      },
      "source": [
        "# Store the interger as a varaible:\n",
        "var = (1.8)\n",
        "\n",
        "# Typecast the integer:\n",
        "a = str(var)\n",
        "# Print the result:\n",
        "print(a)"
      ],
      "execution_count": 16,
      "outputs": [
        {
          "output_type": "stream",
          "text": [
            "1.8\n"
          ],
          "name": "stdout"
        }
      ]
    },
    {
      "cell_type": "markdown",
      "metadata": {
        "id": "IP5LMF00bATM"
      },
      "source": [
        "Question 8: Find the product of two numbers input by the user."
      ]
    },
    {
      "cell_type": "code",
      "metadata": {
        "id": "_REzzqdwa3Gp",
        "colab": {
          "base_uri": "https://localhost:8080/"
        },
        "outputId": "9c7bac0f-8086-477e-f32a-c5fb8874d3b6"
      },
      "source": [
        "# Take input of the first number and store it in a variable:\n",
        "num1 = input(\"Please enter Number 1:  \")\n",
        "\n",
        "# Take input of the second number and store it in a variable:\n",
        "num2 = input(\"Please enter Number 2:  \")\n",
        "\n",
        "# You will need to typecast the input strings into integers\n",
        "\n",
        "# Calculate the product:\n",
        "product = int(num1) * int(num2)\n",
        "\n",
        "# Print the result:\n",
        "print(product)"
      ],
      "execution_count": 17,
      "outputs": [
        {
          "output_type": "stream",
          "text": [
            "Please enter Number 1:  5\n",
            "Please enter Number 2:  8\n",
            "40\n"
          ],
          "name": "stdout"
        }
      ]
    },
    {
      "cell_type": "markdown",
      "metadata": {
        "id": "041d-OjCcXt9"
      },
      "source": [
        "Question 9: Calculate the remainder of the number 6 when divided by the number 4."
      ]
    },
    {
      "cell_type": "code",
      "metadata": {
        "id": "rLigN9eFb1JT",
        "colab": {
          "base_uri": "https://localhost:8080/"
        },
        "outputId": "6de09d2d-0182-4a97-ea97-27d395dc3c00"
      },
      "source": [
        "# Find the modulus and print the result:\r\n",
        "remainder = 6%4\r\n",
        "remainder"
      ],
      "execution_count": 19,
      "outputs": [
        {
          "output_type": "execute_result",
          "data": {
            "text/plain": [
              "2"
            ]
          },
          "metadata": {
            "tags": []
          },
          "execution_count": 19
        }
      ]
    },
    {
      "cell_type": "markdown",
      "metadata": {
        "id": "xyFL6iLUczpm"
      },
      "source": [
        "Question 10: Solve the error in code below and print the correct result."
      ]
    },
    {
      "cell_type": "code",
      "metadata": {
        "id": "DX_mc1H8cyRC",
        "colab": {
          "base_uri": "https://localhost:8080/"
        },
        "outputId": "3cf2df26-8b8c-42c5-8f86-c48d5d92a62b"
      },
      "source": [
        "# Given:\n",
        "print('I can\\'t study any longer')\n",
        "\n",
        "# Corrected solution:"
      ],
      "execution_count": 21,
      "outputs": [
        {
          "output_type": "stream",
          "text": [
            "I can't study any longer\n"
          ],
          "name": "stdout"
        }
      ]
    },
    {
      "cell_type": "markdown",
      "metadata": {
        "id": "MsVRoye5daZG"
      },
      "source": [
        "Question 11: Print the following statement using only 1 print statement:\n",
        "\n",
        "Hello\n",
        "\n",
        "Good Morning"
      ]
    },
    {
      "cell_type": "code",
      "metadata": {
        "id": "PqnV_g10dOzS",
        "colab": {
          "base_uri": "https://localhost:8080/"
        },
        "outputId": "23911e8b-318d-4083-9387-51f74ae9148e"
      },
      "source": [
        "# Print the required statement:\\\r\n",
        "print(\"Hello\\nGood Mrning\")"
      ],
      "execution_count": 36,
      "outputs": [
        {
          "output_type": "stream",
          "text": [
            "Hello\n",
            "Good Mrning\n"
          ],
          "name": "stdout"
        }
      ]
    },
    {
      "cell_type": "markdown",
      "metadata": {
        "id": "r8xXSTHRd5RT"
      },
      "source": [
        "Question 12: Concatenate the given strings and print the result:\n"
      ]
    },
    {
      "cell_type": "code",
      "metadata": {
        "id": "PuwSE5uidy24"
      },
      "source": [
        "# Given below are the two strings:\n",
        "string1= 'Welcome to upgrad'\n",
        "string2= 'coding practice session.'\n",
        "\n",
        "# Concatenate and print the result:"
      ],
      "execution_count": 42,
      "outputs": []
    },
    {
      "cell_type": "code",
      "metadata": {
        "colab": {
          "base_uri": "https://localhost:8080/"
        },
        "id": "0Uy7SG8iO6rR",
        "outputId": "195b5b79-1730-4c0c-a0b2-673f5f1a6aae"
      },
      "source": [
        "\r\n",
        "print(string1+\" \"+string2)"
      ],
      "execution_count": 45,
      "outputs": [
        {
          "output_type": "stream",
          "text": [
            "Welcome to upgrad coding practice session.\n"
          ],
          "name": "stdout"
        }
      ]
    },
    {
      "cell_type": "markdown",
      "metadata": {
        "id": "QpkUZwCsefdt"
      },
      "source": [
        "Question 13: Find the length of string given below and print the result.\n"
      ]
    },
    {
      "cell_type": "code",
      "metadata": {
        "id": "24Am9RaseEXP",
        "colab": {
          "base_uri": "https://localhost:8080/"
        },
        "outputId": "590ba430-8c8d-4b29-a500-030ad0d35cd7"
      },
      "source": [
        "# Given below is the string:\n",
        "strg = ' i love programming using python'\n",
        "\n",
        "# Calculate and print the length:\n",
        "len(strg)"
      ],
      "execution_count": 46,
      "outputs": [
        {
          "output_type": "execute_result",
          "data": {
            "text/plain": [
              "32"
            ]
          },
          "metadata": {
            "tags": []
          },
          "execution_count": 46
        }
      ]
    },
    {
      "cell_type": "markdown",
      "metadata": {
        "id": "KoVEaa4QfMb_"
      },
      "source": [
        "Question 14: Create a string of length=10. Obtain the fifth and seventh character of the string. Concatenate the characters and form a new string. Print the new string."
      ]
    },
    {
      "cell_type": "code",
      "metadata": {
        "id": "U-356eSce6UM",
        "colab": {
          "base_uri": "https://localhost:8080/"
        },
        "outputId": "d2cc436a-da85-44e0-e85d-ff08cdcb962f"
      },
      "source": [
        "# Create a string of length 10:\n",
        "a = 'Practice14'\n",
        "\n",
        "\n",
        "# You can verify the length:\n",
        "len(a)\n",
        "# Obtain the fifth letter and store it into a new string:\n",
        "b =a[4]\n",
        "# Obtain the seventh letter and store it into a new string:\n",
        "c = a[6]\n",
        "# Concatenate the two strings:\n",
        "print(b+c)\n",
        "# Print the result:"
      ],
      "execution_count": 51,
      "outputs": [
        {
          "output_type": "stream",
          "text": [
            "tc\n"
          ],
          "name": "stdout"
        }
      ]
    },
    {
      "cell_type": "markdown",
      "metadata": {
        "id": "-9wQ6PQtzNi3"
      },
      "source": [
        "Question 15: Given below is a string. Perform the following operations and print the results:\n",
        "1. Remove the extra spaces from the string and print the new string.\n",
        "2. Find the length of new string\n",
        "3. Remove the last 5 characters of the new string\n",
        "4. Find the 15th character of the new string\n",
        "5. Compute the result of concatenation of the first and last letter of the new string.\n"
      ]
    },
    {
      "cell_type": "code",
      "metadata": {
        "id": "T9GOWY_JyErD",
        "colab": {
          "base_uri": "https://localhost:8080/"
        },
        "outputId": "4fd080dc-64f1-4ed6-82b8-5f22bdaec91f"
      },
      "source": [
        "# Given below is the string:\n",
        "line= '     I hope you enjoyed this practice session.'\n",
        "\n",
        "# Removing extra spaces:\n",
        "line = line.lstrip(\" \")\n",
        "# Print the result:\n",
        "print(line)\n",
        "# Calculate the length:\n",
        "len(line)\n",
        "# Slice the string to remove the last 5 characters:\n",
        "a = line[:len(line)-5]\n",
        "# Print the result:\n",
        "print(a)\n",
        "# Print the 15th character of the string:\n",
        "print(a[14])\n",
        "# Print the concatenation of first and last character of resulting string:\n",
        "print(a[0]+a[-1])"
      ],
      "execution_count": 59,
      "outputs": [
        {
          "output_type": "stream",
          "text": [
            "I hope you enjoyed this practice session.\n",
            "I hope you enjoyed this practice ses\n",
            "o\n",
            "Is\n"
          ],
          "name": "stdout"
        }
      ]
    }
  ]
}